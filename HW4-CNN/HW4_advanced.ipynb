{
  "cells": [
    {
      "cell_type": "code",
      "execution_count": 1,
      "metadata": {
        "id": "thermal-amateur"
      },
      "outputs": [],
      "source": [
        "import numpy as np\n",
        "import pandas as pd\n",
        "from PIL import Image\n",
        "from tensorflow import keras\n",
        "from sklearn.metrics import f1_score\n",
        "import csv\n",
        "from matplotlib import pyplot as plt\n",
        "from tensorflow.keras.layers import Conv2D, MaxPooling2D, Dropout, Flatten, Dense"
      ],
      "id": "thermal-amateur"
    },
    {
      "cell_type": "code",
      "execution_count": 2,
      "metadata": {
        "id": "appreciated-penetration",
        "colab": {
          "base_uri": "https://localhost:8080/"
        },
        "outputId": "9f1039bd-54dc-492b-fdf8-47f0a885fc80"
      },
      "outputs": [
        {
          "output_type": "stream",
          "name": "stdout",
          "text": [
            "Mounted at /content/drive\n"
          ]
        }
      ],
      "source": [
        "from google.colab import drive\n",
        "drive.mount('/content/drive')"
      ],
      "id": "appreciated-penetration"
    },
    {
      "cell_type": "code",
      "execution_count": null,
      "metadata": {
        "id": "accepted-italic"
      },
      "outputs": [],
      "source": [
        "!unzip '/content/drive/MyDrive/Colab Notebooks/HW4_data.zip'"
      ],
      "id": "accepted-italic"
    },
    {
      "cell_type": "code",
      "execution_count": 4,
      "metadata": {
        "id": "healthy-filing"
      },
      "outputs": [],
      "source": [
        "X_train = []\n",
        "for i in range(10000):\n",
        "    X_train.append(np.asarray(Image.open(\"HW4_data/public/train_{i}.jpg\".format(i=i))))\n",
        "df_train = pd.read_csv(\"HW4_data/public/train_label.csv\", index_col=0)"
      ],
      "id": "healthy-filing"
    },
    {
      "cell_type": "code",
      "execution_count": 5,
      "metadata": {
        "id": "protective-logan"
      },
      "outputs": [],
      "source": [
        "X_val = []\n",
        "for i in range(1000):\n",
        "    X_val.append(np.asarray(Image.open(\"HW4_data/public/val_{i}.jpg\".format(i=i))))\n",
        "    \n",
        "df_val = pd.read_csv(\"HW4_data/public/val_label.csv\", index_col=0)"
      ],
      "id": "protective-logan"
    },
    {
      "cell_type": "code",
      "execution_count": 6,
      "metadata": {
        "id": "killing-final"
      },
      "outputs": [],
      "source": [
        "X_test = []\n",
        "for i in range(1500):\n",
        "    X_test.append(np.asarray(Image.open(\"HW4_data/private/test_{i}.jpg\".format(i=i))))\n",
        "\n",
        "df_test_demo = pd.read_csv(\"HW4_data/private/test_demo.csv\", index_col=0)"
      ],
      "id": "killing-final"
    },
    {
      "cell_type": "code",
      "execution_count": 9,
      "metadata": {
        "id": "O0cPGEsrqCYs"
      },
      "outputs": [],
      "source": [
        "model_advance = keras.Sequential()\n",
        "model_advance.add(Conv2D(32,(3,3),activation='relu',input_shape=(128,128,1)))\n",
        "model_advance.add(MaxPooling2D(pool_size=(2,2)))\n",
        "model_advance.add(Conv2D(64,(3,3),activation='relu'))\n",
        "model_advance.add(MaxPooling2D(pool_size=(2,2)))\n",
        "#model_advance.add(Conv2D(128,(3,3),activation='relu'))\n",
        "#model_advance.add(MaxPooling2D(pool_size=(2,2)))\n",
        "model_advance.add(Flatten())\n",
        "model_advance.add(Dense(512,activation='relu'))\n",
        "model_advance.add(Dropout(0.25))\n",
        "model_advance.add(Dense(7, activation='sigmoid'))\n",
        "#model.compile(loss = 'sparse_categorical_crossentropy',\n",
        "#  optimizer='adam',metrics=['accuracy'])\n",
        "model_advance.compile(loss = 'binary_crossentropy',\n",
        "  optimizer='adam',metrics=['accuracy'])"
      ],
      "id": "O0cPGEsrqCYs"
    },
    {
      "cell_type": "code",
      "execution_count": 10,
      "metadata": {
        "id": "lFMJ8X8wrMSF",
        "colab": {
          "base_uri": "https://localhost:8080/"
        },
        "outputId": "1abcbe27-e813-49e8-bfbd-92729489e54d"
      },
      "outputs": [
        {
          "output_type": "stream",
          "name": "stdout",
          "text": [
            "Epoch 1/5\n",
            "157/157 [==============================] - 246s 2s/step - loss: 7.4291 - accuracy: 0.6370\n",
            "Epoch 2/5\n",
            "157/157 [==============================] - 249s 2s/step - loss: 0.3526 - accuracy: 0.6817\n",
            "Epoch 3/5\n",
            "157/157 [==============================] - 244s 2s/step - loss: 0.3192 - accuracy: 0.6982\n",
            "Epoch 4/5\n",
            "157/157 [==============================] - 240s 2s/step - loss: 0.2958 - accuracy: 0.7070\n",
            "Epoch 5/5\n",
            "157/157 [==============================] - 240s 2s/step - loss: 0.2562 - accuracy: 0.7259\n"
          ]
        }
      ],
      "source": [
        "X_train_data = np.array(X_train)\n",
        "X_train_data = X_train_data[..., np.newaxis]\n",
        "df_multi = pd.DataFrame(df_train, columns = ['Atelectasis', 'Cardiomegaly', 'Edema', 'Lung Opacity', 'No Finding', 'Pleural Effusion', 'Support Devices'])\n",
        "Y_train_data = df_multi.to_numpy()\n",
        "#Y_train_data = Y_train_data[..., np.newaxis]\n",
        "history = model_advance.fit(X_train_data, Y_train_data, epochs=5, batch_size=64)"
      ],
      "id": "lFMJ8X8wrMSF"
    },
    {
      "cell_type": "code",
      "execution_count": 11,
      "metadata": {
        "id": "zGprn8t9wTdF",
        "colab": {
          "base_uri": "https://localhost:8080/"
        },
        "outputId": "a6848e90-5efa-468e-d737-cf503fc50e46"
      },
      "outputs": [
        {
          "output_type": "execute_result",
          "data": {
            "text/plain": [
              "0.5987808672623405"
            ]
          },
          "metadata": {},
          "execution_count": 11
        }
      ],
      "source": [
        "X_val_data = np.array(X_val)\n",
        "X_val_data = X_val_data[..., np.newaxis]\n",
        "\n",
        "df_multi_val = pd.DataFrame(df_val, columns = ['Atelectasis', 'Cardiomegaly', 'Edema', 'Lung Opacity', 'No Finding', 'Pleural Effusion', 'Support Devices'])\n",
        "Y_val_data = df_multi_val.to_numpy()\n",
        "\n",
        "y_hat_val = model_advance.predict(X_val_data)\n",
        "y_hat_val = np.round(y_hat_val).astype(int)\n",
        "#print(y_hat_val)\n",
        "#print(Y_val_data)\n",
        "#print(y_hat)\n",
        "f1_score(Y_val_data, y_hat_val, average='weighted')"
      ],
      "id": "zGprn8t9wTdF"
    },
    {
      "cell_type": "code",
      "source": [
        "X_test_data = np.array(X_test)\n",
        "X_test_data = X_test_data[..., np.newaxis]\n",
        "\n",
        "y_predict_advanced = model_advance.predict(X_test_data)\n",
        "y_predict_advanced = np.round(y_predict_advanced).astype(int)\n",
        "\n",
        "#y_predict_basic = y_predict_basic.flatten()"
      ],
      "metadata": {
        "id": "06vSNq9dkf9h"
      },
      "id": "06vSNq9dkf9h",
      "execution_count": 17,
      "outputs": []
    },
    {
      "cell_type": "code",
      "source": [
        "plt.plot(history.history['accuracy'])\n",
        "print(history.history.keys())\n",
        "#plt.plot(history.history['val_accuracy'])\n",
        "plt.title('model accuracy')\n",
        "plt.ylabel('accuracy')\n",
        "plt.xlabel('epoch')\n",
        "plt.legend(['train', 'val'], loc='upper left')\n",
        "plt.show()"
      ],
      "metadata": {
        "id": "JUG1rQJYu28x",
        "colab": {
          "base_uri": "https://localhost:8080/",
          "height": 312
        },
        "outputId": "e0458116-01aa-4cb6-9d7d-d8e3e523cffc"
      },
      "id": "JUG1rQJYu28x",
      "execution_count": 13,
      "outputs": [
        {
          "output_type": "stream",
          "name": "stdout",
          "text": [
            "dict_keys(['loss', 'accuracy'])\n"
          ]
        },
        {
          "output_type": "display_data",
          "data": {
            "image/png": "[encoded data removed]",
            "text/plain": [
              "<Figure size 432x288 with 1 Axes>"
            ]
          },
          "metadata": {
            "needs_background": "light"
          }
        }
      ]
    },
    {
      "cell_type": "code",
      "source": [
        "plt.plot(history.history['loss'])\n",
        "#plt.plot(history.history['val_loss'])\n",
        "plt.title('model loss')\n",
        "plt.ylabel('loss')\n",
        "plt.xlabel('epoch')\n",
        "plt.legend(['train', 'val'], loc='upper left')\n",
        "plt.show()"
      ],
      "metadata": {
        "id": "RHrGPABPyzRs",
        "colab": {
          "base_uri": "https://localhost:8080/",
          "height": 295
        },
        "outputId": "f27c6409-8a89-4e11-96b0-19a6354382d8"
      },
      "id": "RHrGPABPyzRs",
      "execution_count": 14,
      "outputs": [
        {
          "output_type": "display_data",
          "data": {
            "image/png": "[encoded data removed]",
            "text/plain": [
              "<Figure size 432x288 with 1 Axes>"
            ]
          },
          "metadata": {
            "needs_background": "light"
          }
        }
      ]
    },
    {
      "cell_type": "code",
      "source": [
        "print(y_predict_advanced)"
      ],
      "metadata": {
        "id": "HasNFdQG2hUd",
        "colab": {
          "base_uri": "https://localhost:8080/"
        },
        "outputId": "bfab15ba-45ba-4a36-8453-3af8380bb334"
      },
      "id": "HasNFdQG2hUd",
      "execution_count": 18,
      "outputs": [
        {
          "output_type": "stream",
          "name": "stdout",
          "text": [
            "[[0 0 0 ... 1 0 0]\n",
            " [0 0 0 ... 1 0 0]\n",
            " [0 0 0 ... 1 0 0]\n",
            " ...\n",
            " [0 0 1 ... 1 0 0]\n",
            " [0 0 0 ... 1 0 0]\n",
            " [0 0 0 ... 1 0 0]]\n"
          ]
        }
      ]
    },
    {
      "cell_type": "code",
      "source": [
        "output_dataroot = '108062373' + '_advanced_prediction.csv'\n",
        "\n",
        "L = []\n",
        "for i in range(len(y_predict_advanced)):\n",
        "  L.append([i])\n",
        "  for j in y_predict_advanced[i]:\n",
        "    L[i].append(j)\n",
        "\n",
        "\n",
        "with open(output_dataroot, 'w', newline='', encoding=\"utf-8\") as csvfile:\n",
        "    writer = csv.writer(csvfile)\n",
        "\n",
        "    writer.writerow(['', 'Atelectasis', 'Cardiomegaly', 'Edema', 'Lung Opacity', 'No Finding', 'Pleural Effusion', 'Support Devices'])\n",
        "    for l in L:\n",
        "      writer.writerow(l)"
      ],
      "metadata": {
        "id": "m47hVFTn0nGB"
      },
      "id": "m47hVFTn0nGB",
      "execution_count": 19,
      "outputs": []
    }
  ],
  "metadata": {
    "colab": {
      "collapsed_sections": [],
      "name": "HW4_advanced.ipynb",
      "provenance": []
    },
    "kernelspec": {
      "display_name": "Python 3",
      "language": "python",
      "name": "python3"
    },
    "language_info": {
      "codemirror_mode": {
        "name": "ipython",
        "version": 3
      },
      "file_extension": ".py",
      "mimetype": "text/x-python",
      "name": "python",
      "nbconvert_exporter": "python",
      "pygments_lexer": "ipython3",
      "version": "3.7.10"
    }
  },
  "nbformat": 4,
  "nbformat_minor": 5
}