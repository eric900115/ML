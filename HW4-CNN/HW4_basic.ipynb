{
  "cells": [
    {
      "cell_type": "code",
      "execution_count": 28,
      "metadata": {
        "id": "thermal-amateur"
      },
      "outputs": [],
      "source": [
        "import numpy as np\n",
        "import pandas as pd\n",
        "from PIL import Image\n",
        "from tensorflow import keras\n",
        "from sklearn.metrics import f1_score\n",
        "import csv\n",
        "from matplotlib import pyplot as plt\n",
        "from tensorflow.keras.layers import Conv2D, MaxPooling2D, Dropout, Flatten, Dense"
      ],
      "id": "thermal-amateur"
    },
    {
      "cell_type": "code",
      "execution_count": 2,
      "metadata": {
        "colab": {
          "base_uri": "https://localhost:8080/"
        },
        "id": "appreciated-penetration",
        "outputId": "c39d3a35-d68d-40f2-d595-72ede8672c53"
      },
      "outputs": [
        {
          "output_type": "stream",
          "name": "stdout",
          "text": [
            "Mounted at /content/drive\n"
          ]
        }
      ],
      "source": [
        "from google.colab import drive\n",
        "drive.mount('/content/drive')"
      ],
      "id": "appreciated-penetration"
    },
    {
      "cell_type": "code",
      "execution_count": null,
      "metadata": {
        "id": "accepted-italic"
      },
      "outputs": [],
      "source": [
        "!unzip '/content/drive/MyDrive/Colab Notebooks/HW4_data.zip'"
      ],
      "id": "accepted-italic"
    },
    {
      "cell_type": "code",
      "execution_count": 4,
      "metadata": {
        "id": "healthy-filing"
      },
      "outputs": [],
      "source": [
        "X_train = []\n",
        "for i in range(10000):\n",
        "    X_train.append(np.asarray(Image.open(\"HW4_data/public/train_{i}.jpg\".format(i=i))))\n",
        "df_train = pd.read_csv(\"HW4_data/public/train_label.csv\", index_col=0)"
      ],
      "id": "healthy-filing"
    },
    {
      "cell_type": "code",
      "execution_count": 5,
      "metadata": {
        "id": "protective-logan"
      },
      "outputs": [],
      "source": [
        "X_val = []\n",
        "for i in range(1000):\n",
        "    X_val.append(np.asarray(Image.open(\"HW4_data/public/val_{i}.jpg\".format(i=i))))\n",
        "    \n",
        "df_val = pd.read_csv(\"HW4_data/public/val_label.csv\", index_col=0)"
      ],
      "id": "protective-logan"
    },
    {
      "cell_type": "code",
      "execution_count": 21,
      "metadata": {
        "id": "killing-final"
      },
      "outputs": [],
      "source": [
        "X_test = []\n",
        "for i in range(1500):\n",
        "    X_test.append(np.asarray(Image.open(\"HW4_data/private/test_{i}.jpg\".format(i=i))))\n",
        "\n",
        "df_test_demo = pd.read_csv(\"HW4_data/private/test_demo.csv\", index_col=0)"
      ],
      "id": "killing-final"
    },
    {
      "cell_type": "code",
      "execution_count": 22,
      "metadata": {
        "id": "zGprn8t9wTdF"
      },
      "outputs": [],
      "source": [
        "model= keras.Sequential()\n",
        "model.add(Conv2D(32, (3, 3), padding=\"same\", activation = 'relu', input_shape = (128,128,1)))\n",
        "model.add(MaxPooling2D(pool_size=(2, 2)))\n",
        "model.add(Conv2D(64, (3, 3), activation = 'relu'))\n",
        "model.add(MaxPooling2D(pool_size=(2,2)))\n",
        "model.add(Conv2D(128, (3, 3), activation = 'relu'))\n",
        "model.add(MaxPooling2D(pool_size=(2, 2)))\n",
        "model.add(Flatten())\n",
        "model.add(Dense(256, activation = 'relu'))\n",
        "model.add(Dropout(0.5))\n",
        "model.add(Dense(1, activation = 'sigmoid'))\n",
        "\n",
        "model.compile(loss = 'binary_crossentropy',\n",
        "  optimizer='adam',\n",
        "  metrics=['accuracy'])"
      ],
      "id": "zGprn8t9wTdF"
    },
    {
      "cell_type": "code",
      "source": [
        "model.summary()"
      ],
      "metadata": {
        "id": "BYT5M2hqxQca"
      },
      "id": "BYT5M2hqxQca",
      "execution_count": null,
      "outputs": []
    },
    {
      "cell_type": "code",
      "execution_count": 23,
      "metadata": {
        "colab": {
          "base_uri": "https://localhost:8080/"
        },
        "id": "06vSNq9dkf9h",
        "outputId": "5c47fcf3-6a7f-4c29-82a7-87c359cd6a78"
      },
      "outputs": [
        {
          "output_type": "stream",
          "name": "stdout",
          "text": [
            "[0 0 0 ... 1 1 0]\n",
            "Epoch 1/5\n",
            "157/157 [==============================] - 279s 2s/step - loss: 2.8532 - accuracy: 0.7456\n",
            "Epoch 2/5\n",
            "157/157 [==============================] - 255s 2s/step - loss: 0.4263 - accuracy: 0.7956\n",
            "Epoch 3/5\n",
            "157/157 [==============================] - 252s 2s/step - loss: 0.3904 - accuracy: 0.8188\n",
            "Epoch 4/5\n",
            "157/157 [==============================] - 251s 2s/step - loss: 0.3887 - accuracy: 0.8241\n",
            "Epoch 5/5\n",
            "157/157 [==============================] - 251s 2s/step - loss: 0.4021 - accuracy: 0.8114\n"
          ]
        }
      ],
      "source": [
        "X_train_data = np.array(X_train)\n",
        "X_train_data = X_train_data[..., np.newaxis]\n",
        "Y_train_data = df_train['Edema'].to_numpy()\n",
        "#Y_train_data = Y_train_data[..., np.newaxis]\n",
        "print(Y_train_data)\n",
        "history = model.fit(X_train_data, Y_train_data, epochs=5, batch_size=64)"
      ],
      "id": "06vSNq9dkf9h"
    },
    {
      "cell_type": "code",
      "execution_count": 24,
      "metadata": {
        "colab": {
          "base_uri": "https://localhost:8080/"
        },
        "id": "9oKpApyjfioO",
        "outputId": "f52820a1-a58a-48f8-9f7b-9e278f52378a"
      },
      "outputs": [
        {
          "output_type": "execute_result",
          "data": {
            "text/plain": [
              "0.8144664040405678"
            ]
          },
          "metadata": {},
          "execution_count": 24
        }
      ],
      "source": [
        "X_val_data = np.array(X_val)\n",
        "X_val_data = X_val_data[..., np.newaxis]\n",
        "Y_val_data = df_val['Edema'].to_numpy()\n",
        "\n",
        "y_hat = model.predict(X_val_data)\n",
        "y_hat = np.round(y_hat).astype(int)\n",
        "\n",
        "f1_score(Y_val_data, y_hat.flatten(), average='weighted')"
      ],
      "id": "9oKpApyjfioO"
    },
    {
      "cell_type": "code",
      "execution_count": 26,
      "metadata": {
        "id": "Rr6zFzF9H1qV"
      },
      "outputs": [],
      "source": [
        "X_test_data = np.array(X_test)\n",
        "X_test_data = X_test_data[..., np.newaxis]\n",
        "\n",
        "y_predict_basic = model.predict(X_test_data)\n",
        "y_predict_basic = np.round(y_predict_basic).astype(int)\n",
        "\n",
        "y_predict_basic = y_predict_basic.flatten()\n"
      ],
      "id": "Rr6zFzF9H1qV"
    },
    {
      "cell_type": "code",
      "source": [
        "plt.plot(history.history['accuracy'])\n",
        "#plt.plot(history.history['val_acc'])\n",
        "plt.title('model accuracy')\n",
        "plt.ylabel('accuracy')\n",
        "plt.xlabel('epoch')\n",
        "plt.legend(['train', 'val'], loc='upper left')\n",
        "plt.show()"
      ],
      "metadata": {
        "colab": {
          "base_uri": "https://localhost:8080/",
          "height": 295
        },
        "id": "8-22De9nwkKB",
        "outputId": "c6c4c190-9c9f-4e4d-85bc-0dc383ffa05b"
      },
      "id": "8-22De9nwkKB",
      "execution_count": 31,
      "outputs": [
        {
          "output_type": "display_data",
          "data": {
            "image/png": "[encoded data removed]",
            "text/plain": [
              "<Figure size 432x288 with 1 Axes>"
            ]
          },
          "metadata": {
            "needs_background": "light"
          }
        }
      ]
    },
    {
      "cell_type": "code",
      "source": [
        "plt.plot(history.history['loss'])\n",
        "#plt.plot(history.history['val_loss'])\n",
        "plt.title('model loss')\n",
        "plt.ylabel('loss')\n",
        "plt.xlabel('epoch')\n",
        "plt.legend(['train', 'val'], loc='upper left')\n",
        "plt.show()"
      ],
      "metadata": {
        "colab": {
          "base_uri": "https://localhost:8080/",
          "height": 295
        },
        "id": "TO0TNfzIw9tF",
        "outputId": "4f5bcc06-8b43-4f25-ce03-0adafaf1bfa2"
      },
      "id": "TO0TNfzIw9tF",
      "execution_count": 32,
      "outputs": [
        {
          "output_type": "display_data",
          "data": {
            "image/png": "[encoded data removed]",
            "text/plain": [
              "<Figure size 432x288 with 1 Axes>"
            ]
          },
          "metadata": {
            "needs_background": "light"
          }
        }
      ]
    },
    {
      "cell_type": "code",
      "source": [
        "output_dataroot = '108062373' + '_basic_prediction.csv'\n",
        "\n",
        "L = []\n",
        "for i in range(len(y_predict_basic)):\n",
        "  L.append([i, y_predict_basic[i]])\n",
        "\n",
        "with open(output_dataroot, 'w', newline='', encoding=\"utf-8\") as csvfile:\n",
        "    writer = csv.writer(csvfile)\n",
        "\n",
        "    writer.writerow(['', 'Edema'])\n",
        "    for l in L:\n",
        "      writer.writerow(l)"
      ],
      "metadata": {
        "id": "mHwJXnHQtbA_"
      },
      "id": "mHwJXnHQtbA_",
      "execution_count": 33,
      "outputs": []
    }
  ],
  "metadata": {
    "colab": {
      "collapsed_sections": [],
      "name": "HW4_basic.ipynb",
      "provenance": []
    },
    "kernelspec": {
      "display_name": "Python 3",
      "language": "python",
      "name": "python3"
    },
    "language_info": {
      "codemirror_mode": {
        "name": "ipython",
        "version": 3
      },
      "file_extension": ".py",
      "mimetype": "text/x-python",
      "name": "python",
      "nbconvert_exporter": "python",
      "pygments_lexer": "ipython3",
      "version": "3.7.10"
    }
  },
  "nbformat": 4,
  "nbformat_minor": 5
}