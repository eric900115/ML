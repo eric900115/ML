{
  "nbformat": 4,
  "nbformat_minor": 0,
  "metadata": {
    "colab": {
      "name": "HW2_Decision_Tree.ipynb",
      "provenance": [],
      "collapsed_sections": []
    },
    "kernelspec": {
      "display_name": "Python 3",
      "language": "python",
      "name": "python3"
    },
    "language_info": {
      "codemirror_mode": {
        "name": "ipython",
        "version": 3
      },
      "file_extension": ".py",
      "mimetype": "text/x-python",
      "name": "python",
      "nbconvert_exporter": "python",
      "pygments_lexer": "ipython3",
      "version": "3.8.8"
    }
  },
  "cells": [
    {
      "cell_type": "markdown",
      "metadata": {
        "id": "yEtwmT5QNVLn"
      },
      "source": [
        "# **HW2: Decision Tree** \n",
        "In *assignment 2*, you need to:\n",
        "\n",
        "1.   Implement the decision tree in 3 steps (with the example data)\n",
        "\n",
        "\n",
        "*   Step 1: calculate the entropy\n",
        "*   Step 2: search for the best split\n",
        "*   Step 3: build the decision tree\n",
        "\n",
        "2.   Predict the patients' death (hospDIED) in the *MIMIC* dataset\n",
        "\n",
        "Please fill in your **studentID** here."
      ]
    },
    {
      "cell_type": "code",
      "metadata": {
        "id": "F-ad78F1Ng-0"
      },
      "source": [
        "STUDENT_ID = '108062373'"
      ],
      "execution_count": 1,
      "outputs": []
    },
    {
      "cell_type": "markdown",
      "metadata": {
        "id": "s6lZtFwY4kjA"
      },
      "source": [
        "# **1. Implement the Decision Tree**\n",
        "In the first part, you need to implement the decision tree by completing the given funcitions.\n",
        "\n",
        "Also, you need to run those functions with given input variables and save the output to the implementation csv file **[STUDENT_ID]_implementation.csv**.\n",
        "\n",
        "Implement a binary decision tree to classify *Restaurant* dataset."
      ]
    },
    {
      "cell_type": "markdown",
      "metadata": {
        "id": "aFStwbIaNkrQ"
      },
      "source": [
        "## Import Packages\n",
        "\n",
        "Note: You **cannot** import any other packages in the first part (implementation)!"
      ]
    },
    {
      "cell_type": "code",
      "metadata": {
        "id": "Gea2xBsNdQMC"
      },
      "source": [
        "import numpy as np\n",
        "import pandas as pd\n",
        "import random"
      ],
      "execution_count": 2,
      "outputs": []
    },
    {
      "cell_type": "markdown",
      "metadata": {
        "id": "QENWRdMMO3z_"
      },
      "source": [
        "## Load the Example Data\n",
        "First, load the *Restaurant waiting* dataset: **data.csv**"
      ]
    },
    {
      "cell_type": "code",
      "metadata": {
        "colab": {
          "base_uri": "https://localhost:8080/",
          "height": 418
        },
        "id": "cMQ8mdm04rN0",
        "outputId": "b1d87579-8c71-4af2-dcd0-6f7f770ea87b"
      },
      "source": [
        "example = pd.read_csv('https://raw.githubusercontent.com/aubreyyy24/HW2_data/main/data.csv')\n",
        "example"
      ],
      "execution_count": 3,
      "outputs": [
        {
          "output_type": "execute_result",
          "data": {
            "text/html": [
              "<div>\n",
              "<style scoped>\n",
              "    .dataframe tbody tr th:only-of-type {\n",
              "        vertical-align: middle;\n",
              "    }\n",
              "\n",
              "    .dataframe tbody tr th {\n",
              "        vertical-align: top;\n",
              "    }\n",
              "\n",
              "    .dataframe thead th {\n",
              "        text-align: right;\n",
              "    }\n",
              "</style>\n",
              "<table border=\"1\" class=\"dataframe\">\n",
              "  <thead>\n",
              "    <tr style=\"text-align: right;\">\n",
              "      <th></th>\n",
              "      <th>Unnamed: 0</th>\n",
              "      <th>Alternate</th>\n",
              "      <th>Bar</th>\n",
              "      <th>Friday</th>\n",
              "      <th>Hungry</th>\n",
              "      <th>Patrons</th>\n",
              "      <th>Price</th>\n",
              "      <th>Raining</th>\n",
              "      <th>Reservation</th>\n",
              "      <th>Type</th>\n",
              "      <th>WaitEstimate</th>\n",
              "      <th>Wait</th>\n",
              "    </tr>\n",
              "  </thead>\n",
              "  <tbody>\n",
              "    <tr>\n",
              "      <th>0</th>\n",
              "      <td>X1</td>\n",
              "      <td>T</td>\n",
              "      <td>F</td>\n",
              "      <td>F</td>\n",
              "      <td>T</td>\n",
              "      <td>Some</td>\n",
              "      <td>High</td>\n",
              "      <td>F</td>\n",
              "      <td>T</td>\n",
              "      <td>French</td>\n",
              "      <td>8</td>\n",
              "      <td>T</td>\n",
              "    </tr>\n",
              "    <tr>\n",
              "      <th>1</th>\n",
              "      <td>X2</td>\n",
              "      <td>T</td>\n",
              "      <td>F</td>\n",
              "      <td>F</td>\n",
              "      <td>T</td>\n",
              "      <td>Full</td>\n",
              "      <td>Low</td>\n",
              "      <td>F</td>\n",
              "      <td>F</td>\n",
              "      <td>Thai</td>\n",
              "      <td>40</td>\n",
              "      <td>F</td>\n",
              "    </tr>\n",
              "    <tr>\n",
              "      <th>2</th>\n",
              "      <td>X3</td>\n",
              "      <td>F</td>\n",
              "      <td>T</td>\n",
              "      <td>F</td>\n",
              "      <td>F</td>\n",
              "      <td>Some</td>\n",
              "      <td>Low</td>\n",
              "      <td>F</td>\n",
              "      <td>F</td>\n",
              "      <td>Burger</td>\n",
              "      <td>8</td>\n",
              "      <td>T</td>\n",
              "    </tr>\n",
              "    <tr>\n",
              "      <th>3</th>\n",
              "      <td>X4</td>\n",
              "      <td>T</td>\n",
              "      <td>F</td>\n",
              "      <td>T</td>\n",
              "      <td>T</td>\n",
              "      <td>Full</td>\n",
              "      <td>Low</td>\n",
              "      <td>F</td>\n",
              "      <td>F</td>\n",
              "      <td>Thai</td>\n",
              "      <td>12</td>\n",
              "      <td>T</td>\n",
              "    </tr>\n",
              "    <tr>\n",
              "      <th>4</th>\n",
              "      <td>X5</td>\n",
              "      <td>T</td>\n",
              "      <td>F</td>\n",
              "      <td>T</td>\n",
              "      <td>F</td>\n",
              "      <td>Full</td>\n",
              "      <td>High</td>\n",
              "      <td>F</td>\n",
              "      <td>T</td>\n",
              "      <td>French</td>\n",
              "      <td>70</td>\n",
              "      <td>F</td>\n",
              "    </tr>\n",
              "    <tr>\n",
              "      <th>5</th>\n",
              "      <td>X6</td>\n",
              "      <td>F</td>\n",
              "      <td>T</td>\n",
              "      <td>F</td>\n",
              "      <td>T</td>\n",
              "      <td>Some</td>\n",
              "      <td>Medium</td>\n",
              "      <td>T</td>\n",
              "      <td>T</td>\n",
              "      <td>Italian</td>\n",
              "      <td>3</td>\n",
              "      <td>T</td>\n",
              "    </tr>\n",
              "    <tr>\n",
              "      <th>6</th>\n",
              "      <td>X7</td>\n",
              "      <td>F</td>\n",
              "      <td>T</td>\n",
              "      <td>F</td>\n",
              "      <td>F</td>\n",
              "      <td>None</td>\n",
              "      <td>Low</td>\n",
              "      <td>T</td>\n",
              "      <td>F</td>\n",
              "      <td>Burger</td>\n",
              "      <td>7</td>\n",
              "      <td>F</td>\n",
              "    </tr>\n",
              "    <tr>\n",
              "      <th>7</th>\n",
              "      <td>X8</td>\n",
              "      <td>F</td>\n",
              "      <td>F</td>\n",
              "      <td>F</td>\n",
              "      <td>T</td>\n",
              "      <td>Some</td>\n",
              "      <td>Medium</td>\n",
              "      <td>T</td>\n",
              "      <td>T</td>\n",
              "      <td>Thai</td>\n",
              "      <td>6</td>\n",
              "      <td>T</td>\n",
              "    </tr>\n",
              "    <tr>\n",
              "      <th>8</th>\n",
              "      <td>X9</td>\n",
              "      <td>F</td>\n",
              "      <td>T</td>\n",
              "      <td>T</td>\n",
              "      <td>F</td>\n",
              "      <td>Full</td>\n",
              "      <td>Low</td>\n",
              "      <td>T</td>\n",
              "      <td>F</td>\n",
              "      <td>Burger</td>\n",
              "      <td>80</td>\n",
              "      <td>F</td>\n",
              "    </tr>\n",
              "    <tr>\n",
              "      <th>9</th>\n",
              "      <td>X10</td>\n",
              "      <td>T</td>\n",
              "      <td>T</td>\n",
              "      <td>T</td>\n",
              "      <td>T</td>\n",
              "      <td>Full</td>\n",
              "      <td>High</td>\n",
              "      <td>F</td>\n",
              "      <td>T</td>\n",
              "      <td>Italian</td>\n",
              "      <td>20</td>\n",
              "      <td>F</td>\n",
              "    </tr>\n",
              "    <tr>\n",
              "      <th>10</th>\n",
              "      <td>X11</td>\n",
              "      <td>F</td>\n",
              "      <td>F</td>\n",
              "      <td>F</td>\n",
              "      <td>F</td>\n",
              "      <td>None</td>\n",
              "      <td>Low</td>\n",
              "      <td>F</td>\n",
              "      <td>F</td>\n",
              "      <td>Thai</td>\n",
              "      <td>8</td>\n",
              "      <td>F</td>\n",
              "    </tr>\n",
              "    <tr>\n",
              "      <th>11</th>\n",
              "      <td>X12</td>\n",
              "      <td>T</td>\n",
              "      <td>T</td>\n",
              "      <td>T</td>\n",
              "      <td>T</td>\n",
              "      <td>Full</td>\n",
              "      <td>Low</td>\n",
              "      <td>F</td>\n",
              "      <td>F</td>\n",
              "      <td>Burger</td>\n",
              "      <td>40</td>\n",
              "      <td>T</td>\n",
              "    </tr>\n",
              "  </tbody>\n",
              "</table>\n",
              "</div>"
            ],
            "text/plain": [
              "   Unnamed: 0 Alternate Bar Friday  ... Reservation     Type WaitEstimate Wait\n",
              "0          X1         T   F      F  ...           T   French            8    T\n",
              "1          X2         T   F      F  ...           F     Thai           40    F\n",
              "2          X3         F   T      F  ...           F   Burger            8    T\n",
              "3          X4         T   F      T  ...           F     Thai           12    T\n",
              "4          X5         T   F      T  ...           T   French           70    F\n",
              "5          X6         F   T      F  ...           T  Italian            3    T\n",
              "6          X7         F   T      F  ...           F   Burger            7    F\n",
              "7          X8         F   F      F  ...           T     Thai            6    T\n",
              "8          X9         F   T      T  ...           F   Burger           80    F\n",
              "9         X10         T   T      T  ...           T  Italian           20    F\n",
              "10        X11         F   F      F  ...           F     Thai            8    F\n",
              "11        X12         T   T      T  ...           F   Burger           40    T\n",
              "\n",
              "[12 rows x 12 columns]"
            ]
          },
          "metadata": {},
          "execution_count": 3
        }
      ]
    },
    {
      "cell_type": "code",
      "metadata": {
        "id": "3Kzf-VIW50wi"
      },
      "source": [
        "example = example.drop(['Unnamed: 0'], axis=1)"
      ],
      "execution_count": 4,
      "outputs": []
    },
    {
      "cell_type": "code",
      "metadata": {
        "colab": {
          "base_uri": "https://localhost:8080/",
          "height": 418
        },
        "id": "2VZ0rIII1YEV",
        "outputId": "de5bd1fb-98da-4409-d1d5-33d4de0e5b4d"
      },
      "source": [
        "# change the string categorical to integer labels\n",
        "from sklearn.preprocessing import LabelEncoder\n",
        "labelencoder = LabelEncoder()\n",
        "\n",
        "example['Alternate'] = labelencoder.fit_transform(example['Alternate'])\n",
        "example['Bar'] = labelencoder.fit_transform(example['Bar'])\n",
        "example['Friday'] = labelencoder.fit_transform(example['Friday'])\n",
        "example['Hungry'] = labelencoder.fit_transform(example['Hungry'])\n",
        "example['Patrons'] = labelencoder.fit_transform(example['Patrons'])\n",
        "example['Price'] = labelencoder.fit_transform(example['Price'])\n",
        "example['Raining'] = labelencoder.fit_transform(example['Raining'])\n",
        "example['Reservation'] = labelencoder.fit_transform(example['Reservation'])\n",
        "example['Type'] = labelencoder.fit_transform(example['Type'])\n",
        "\n",
        "example"
      ],
      "execution_count": 5,
      "outputs": [
        {
          "output_type": "execute_result",
          "data": {
            "text/html": [
              "<div>\n",
              "<style scoped>\n",
              "    .dataframe tbody tr th:only-of-type {\n",
              "        vertical-align: middle;\n",
              "    }\n",
              "\n",
              "    .dataframe tbody tr th {\n",
              "        vertical-align: top;\n",
              "    }\n",
              "\n",
              "    .dataframe thead th {\n",
              "        text-align: right;\n",
              "    }\n",
              "</style>\n",
              "<table border=\"1\" class=\"dataframe\">\n",
              "  <thead>\n",
              "    <tr style=\"text-align: right;\">\n",
              "      <th></th>\n",
              "      <th>Alternate</th>\n",
              "      <th>Bar</th>\n",
              "      <th>Friday</th>\n",
              "      <th>Hungry</th>\n",
              "      <th>Patrons</th>\n",
              "      <th>Price</th>\n",
              "      <th>Raining</th>\n",
              "      <th>Reservation</th>\n",
              "      <th>Type</th>\n",
              "      <th>WaitEstimate</th>\n",
              "      <th>Wait</th>\n",
              "    </tr>\n",
              "  </thead>\n",
              "  <tbody>\n",
              "    <tr>\n",
              "      <th>0</th>\n",
              "      <td>1</td>\n",
              "      <td>0</td>\n",
              "      <td>0</td>\n",
              "      <td>1</td>\n",
              "      <td>2</td>\n",
              "      <td>0</td>\n",
              "      <td>0</td>\n",
              "      <td>1</td>\n",
              "      <td>1</td>\n",
              "      <td>8</td>\n",
              "      <td>T</td>\n",
              "    </tr>\n",
              "    <tr>\n",
              "      <th>1</th>\n",
              "      <td>1</td>\n",
              "      <td>0</td>\n",
              "      <td>0</td>\n",
              "      <td>1</td>\n",
              "      <td>0</td>\n",
              "      <td>1</td>\n",
              "      <td>0</td>\n",
              "      <td>0</td>\n",
              "      <td>3</td>\n",
              "      <td>40</td>\n",
              "      <td>F</td>\n",
              "    </tr>\n",
              "    <tr>\n",
              "      <th>2</th>\n",
              "      <td>0</td>\n",
              "      <td>1</td>\n",
              "      <td>0</td>\n",
              "      <td>0</td>\n",
              "      <td>2</td>\n",
              "      <td>1</td>\n",
              "      <td>0</td>\n",
              "      <td>0</td>\n",
              "      <td>0</td>\n",
              "      <td>8</td>\n",
              "      <td>T</td>\n",
              "    </tr>\n",
              "    <tr>\n",
              "      <th>3</th>\n",
              "      <td>1</td>\n",
              "      <td>0</td>\n",
              "      <td>1</td>\n",
              "      <td>1</td>\n",
              "      <td>0</td>\n",
              "      <td>1</td>\n",
              "      <td>0</td>\n",
              "      <td>0</td>\n",
              "      <td>3</td>\n",
              "      <td>12</td>\n",
              "      <td>T</td>\n",
              "    </tr>\n",
              "    <tr>\n",
              "      <th>4</th>\n",
              "      <td>1</td>\n",
              "      <td>0</td>\n",
              "      <td>1</td>\n",
              "      <td>0</td>\n",
              "      <td>0</td>\n",
              "      <td>0</td>\n",
              "      <td>0</td>\n",
              "      <td>1</td>\n",
              "      <td>1</td>\n",
              "      <td>70</td>\n",
              "      <td>F</td>\n",
              "    </tr>\n",
              "    <tr>\n",
              "      <th>5</th>\n",
              "      <td>0</td>\n",
              "      <td>1</td>\n",
              "      <td>0</td>\n",
              "      <td>1</td>\n",
              "      <td>2</td>\n",
              "      <td>2</td>\n",
              "      <td>1</td>\n",
              "      <td>1</td>\n",
              "      <td>2</td>\n",
              "      <td>3</td>\n",
              "      <td>T</td>\n",
              "    </tr>\n",
              "    <tr>\n",
              "      <th>6</th>\n",
              "      <td>0</td>\n",
              "      <td>1</td>\n",
              "      <td>0</td>\n",
              "      <td>0</td>\n",
              "      <td>1</td>\n",
              "      <td>1</td>\n",
              "      <td>1</td>\n",
              "      <td>0</td>\n",
              "      <td>0</td>\n",
              "      <td>7</td>\n",
              "      <td>F</td>\n",
              "    </tr>\n",
              "    <tr>\n",
              "      <th>7</th>\n",
              "      <td>0</td>\n",
              "      <td>0</td>\n",
              "      <td>0</td>\n",
              "      <td>1</td>\n",
              "      <td>2</td>\n",
              "      <td>2</td>\n",
              "      <td>1</td>\n",
              "      <td>1</td>\n",
              "      <td>3</td>\n",
              "      <td>6</td>\n",
              "      <td>T</td>\n",
              "    </tr>\n",
              "    <tr>\n",
              "      <th>8</th>\n",
              "      <td>0</td>\n",
              "      <td>1</td>\n",
              "      <td>1</td>\n",
              "      <td>0</td>\n",
              "      <td>0</td>\n",
              "      <td>1</td>\n",
              "      <td>1</td>\n",
              "      <td>0</td>\n",
              "      <td>0</td>\n",
              "      <td>80</td>\n",
              "      <td>F</td>\n",
              "    </tr>\n",
              "    <tr>\n",
              "      <th>9</th>\n",
              "      <td>1</td>\n",
              "      <td>1</td>\n",
              "      <td>1</td>\n",
              "      <td>1</td>\n",
              "      <td>0</td>\n",
              "      <td>0</td>\n",
              "      <td>0</td>\n",
              "      <td>1</td>\n",
              "      <td>2</td>\n",
              "      <td>20</td>\n",
              "      <td>F</td>\n",
              "    </tr>\n",
              "    <tr>\n",
              "      <th>10</th>\n",
              "      <td>0</td>\n",
              "      <td>0</td>\n",
              "      <td>0</td>\n",
              "      <td>0</td>\n",
              "      <td>1</td>\n",
              "      <td>1</td>\n",
              "      <td>0</td>\n",
              "      <td>0</td>\n",
              "      <td>3</td>\n",
              "      <td>8</td>\n",
              "      <td>F</td>\n",
              "    </tr>\n",
              "    <tr>\n",
              "      <th>11</th>\n",
              "      <td>1</td>\n",
              "      <td>1</td>\n",
              "      <td>1</td>\n",
              "      <td>1</td>\n",
              "      <td>0</td>\n",
              "      <td>1</td>\n",
              "      <td>0</td>\n",
              "      <td>0</td>\n",
              "      <td>0</td>\n",
              "      <td>40</td>\n",
              "      <td>T</td>\n",
              "    </tr>\n",
              "  </tbody>\n",
              "</table>\n",
              "</div>"
            ],
            "text/plain": [
              "    Alternate  Bar  Friday  Hungry  ...  Reservation  Type  WaitEstimate  Wait\n",
              "0           1    0       0       1  ...            1     1             8     T\n",
              "1           1    0       0       1  ...            0     3            40     F\n",
              "2           0    1       0       0  ...            0     0             8     T\n",
              "3           1    0       1       1  ...            0     3            12     T\n",
              "4           1    0       1       0  ...            1     1            70     F\n",
              "5           0    1       0       1  ...            1     2             3     T\n",
              "6           0    1       0       0  ...            0     0             7     F\n",
              "7           0    0       0       1  ...            1     3             6     T\n",
              "8           0    1       1       0  ...            0     0            80     F\n",
              "9           1    1       1       1  ...            1     2            20     F\n",
              "10          0    0       0       0  ...            0     3             8     F\n",
              "11          1    1       1       1  ...            0     0            40     T\n",
              "\n",
              "[12 rows x 11 columns]"
            ]
          },
          "metadata": {},
          "execution_count": 5
        }
      ]
    },
    {
      "cell_type": "markdown",
      "metadata": {
        "id": "v3c8J0ABQ7v0"
      },
      "source": [
        "## Calculating the Entropy *(20%)*\n"
      ]
    },
    {
      "cell_type": "code",
      "metadata": {
        "id": "WyGQn_XJnyoc"
      },
      "source": [
        "# split the data by given attribute and its threshold\n",
        "def partition(data, column, threshold):\n",
        "  \"\"\"\n",
        "  The *partition* function will split the input data into 2 branches.\n",
        "    args:\n",
        "    *   data(DataFrame): the input data\n",
        "    *   column(str): the attribute(column name)\n",
        "    *   threshold(float): the column's threshold for splitting the data\n",
        "    returns:\n",
        "    *   match_branch(DataFrame): the divided data that matches the assigned column's threshold\n",
        "    *   false_branch(DataFrame): the divided data that doesn't match the assigned column's threshold\n",
        "  \"\"\"\n",
        "\n",
        "  match_branch = data[data[column] <= threshold]\n",
        "  false_branch = data[data[column] > threshold]\n",
        "\n",
        "  return match_branch, false_branch"
      ],
      "execution_count": 6,
      "outputs": []
    },
    {
      "cell_type": "markdown",
      "metadata": {
        "id": "bEzlw4y5AK-7"
      },
      "source": [
        "If we try *partition(example, 'Patrons', 1.5)*:\n",
        "\n",
        "split example to \n",
        "\n",
        "match_left(Patrons<= 1.5) (Patrons != Some) and  \n",
        "false_right(Patrons > 1.5) (Patrons == Some)\n",
        "\n",
        "column: Patrons, threshold: 1.5\n",
        "\n"
      ]
    },
    {
      "cell_type": "code",
      "metadata": {
        "colab": {
          "base_uri": "https://localhost:8080/"
        },
        "id": "h-5MqfHcJ2Id",
        "outputId": "f3b117db-ce1c-43e5-a609-a6426dda0d58"
      },
      "source": [
        "#match_left, false_right = partition(example, 'Patrons', 1.5)\n",
        "match_left, false_right = partition(example, 'Hungry', 0.5)\n",
        "print(match_left.shape)\n",
        "print(false_right.shape)\n",
        "#match_left\n",
        "#match"
      ],
      "execution_count": 7,
      "outputs": [
        {
          "output_type": "stream",
          "name": "stdout",
          "text": [
            "(5, 11)\n",
            "(7, 11)\n"
          ]
        }
      ]
    },
    {
      "cell_type": "code",
      "metadata": {
        "id": "svjMYA_6VmoN"
      },
      "source": [
        "def entropy(data):\n",
        "  \"\"\"\n",
        "  The *entropy* function will calculate the entropy of the node(data)\n",
        "  args:\n",
        "  *    data(DataFrame): the data you're calculating for the entropy\n",
        "  output:\n",
        "  *    entropy(float): the node(data)'s entropy     \n",
        "  \"\"\"\n",
        "  Value_Count = data['Wait'].value_counts()\n",
        "  True_Count = 0\n",
        "  False_Count = 0\n",
        "\n",
        "  #print(Value_Count)\n",
        "  for i, v in Value_Count.items():\n",
        "    if(i == 'T'):\n",
        "      True_Count = v\n",
        "    if(i == 'F'):\n",
        "      False_Count = v\n",
        "\n",
        "  entropy = 0\n",
        "  Prob_True = True_Count / (True_Count + False_Count)\n",
        "  Prob_False = False_Count / (True_Count + False_Count)\n",
        "\n",
        "  if(Prob_True > 0 and Prob_False > 0):\n",
        "    entropy = -( Prob_True * np.log2(Prob_True) + Prob_False * np.log2(Prob_False) )\n",
        "  #print(\"Count\", True_Count, \" \", False_Count)\n",
        "\n",
        "  return entropy"
      ],
      "execution_count": 8,
      "outputs": []
    },
    {
      "cell_type": "markdown",
      "metadata": {
        "id": "yBvTDwJwfVY7"
      },
      "source": [
        "An example of the output from entropy (Use this to check if your output is correct): "
      ]
    },
    {
      "cell_type": "code",
      "metadata": {
        "colab": {
          "base_uri": "https://localhost:8080/"
        },
        "id": "N_5y1Bz3lx2g",
        "outputId": "32183b41-30b5-48f2-8d82-a61a6ac431ca"
      },
      "source": [
        "match, false = partition(example, 'Hungry', 0.5)\n",
        "entropy1 = entropy(match)\n",
        "#match\n",
        "print(entropy1)"
      ],
      "execution_count": 9,
      "outputs": [
        {
          "output_type": "stream",
          "name": "stdout",
          "text": [
            "0.7219280948873623\n"
          ]
        }
      ]
    },
    {
      "cell_type": "code",
      "metadata": {
        "id": "69Vj7RELq7eF",
        "colab": {
          "base_uri": "https://localhost:8080/"
        },
        "outputId": "b1c3aec3-330b-4d56-8288-4d874383ec1d"
      },
      "source": [
        "#implementation 1: calculate the entropy of 'false_right' data\n",
        "ans_entropy = entropy(false)\n",
        "print(ans_entropy)\n"
      ],
      "execution_count": 10,
      "outputs": [
        {
          "output_type": "stream",
          "name": "stdout",
          "text": [
            "0.863120568566631\n"
          ]
        }
      ]
    },
    {
      "cell_type": "markdown",
      "metadata": {
        "id": "mR4wP6nOVOUE"
      },
      "source": [
        "## Find the Best Split *(20%)*"
      ]
    },
    {
      "cell_type": "code",
      "metadata": {
        "id": "PVcFND4BG4Zx"
      },
      "source": [
        "# search for the best attribute and the value(threshold) to split the data\n",
        "def findBestSplit(data):\n",
        "    \"\"\"\n",
        "    The *findBestSplit* function finds the best combination of attribute and value(with the largest reduction in entropy) to split the data.\n",
        "    args:\n",
        "    *   data(DataFrame): the data you try to split(build the decision tree)\n",
        "    output:\n",
        "    *   column_best(str): the attribute(column) split with the largest reduction in entropy\n",
        "    *   value_best(float): the value(threshold) of the column_best attribute to split the data\n",
        "    \"\"\"\n",
        "    all_entropy = 9999        #the overall entropy : save the value of the smallest entropy\n",
        "    column_best = 0\n",
        "    value_best = 0\n",
        "    Choice = {}\n",
        "    #data_len = len(data.index)\n",
        "    for col in data:\n",
        "      if(col == \"Wait\"):\n",
        "        continue\n",
        "      sorted_df = data.sort_values(by=col, ascending=True)\n",
        "      thresholds = []\n",
        "      Entropys = []\n",
        "      #print(sorted_df[col])\n",
        "      for idx, row in enumerate(sorted_df[col]):\n",
        "        if(idx == 0):\n",
        "          continue\n",
        "        if(sorted_df.iloc[idx][col] != sorted_df.iloc[idx - 1][col]):\n",
        "          threshold = (float(sorted_df.iloc[idx][col]) + float(sorted_df.iloc[idx - 1][col]))/2\n",
        "          thresholds.append(threshold)\n",
        "          #print(sorted_df.iloc[idx][col], ' ', sorted_df.iloc[idx - 1][col], ' ', threshold)\n",
        "\n",
        "      if(len(thresholds) == 0):\n",
        "        continue\n",
        "\n",
        "      #print(thresholds)\n",
        "      #print(thresholds)\n",
        "      for threshold in thresholds:\n",
        "        #print(col)\n",
        "        left, right = partition(data, col, threshold)\n",
        "        #print(right)\n",
        "        left_entropy = entropy(left)\n",
        "        right_entropy = entropy(right)\n",
        "\n",
        "        left_count = len(left.index)\n",
        "        right_count = len(right.index)\n",
        "        total_count = left_count + right_count\n",
        "\n",
        "        Entropy = left_entropy * (left_count / total_count) + right_entropy * (right_count / total_count)\n",
        "        Entropys.append(Entropy)\n",
        "        #print(Entropy)\n",
        "        #match_left\n",
        "      #print(Entropys)\n",
        "      #print(thresholds)\n",
        "      min_idx = 0\n",
        "      min_entropy = Entropys[0]\n",
        "      for idx, val in enumerate(Entropys):\n",
        "        if(val < min_entropy):\n",
        "          min_idx = idx\n",
        "          min_entropy = val\n",
        "      Choice[col] = [min_entropy, thresholds[min_idx]]\n",
        "\n",
        "    #Choice = {k: v for k, v in sorted(Choice.items(), key=lambda item: item[1])}\n",
        "      #print(col)\n",
        "    #column_best = list(Choice)[0]\n",
        "    #value_best = list(Choice.values())[0]\n",
        "    #print(Choice)\n",
        "\n",
        "    column_best = next(iter(Choice))\n",
        "    min_entropy = Choice[column_best][0]\n",
        "    value_best = Choice[column_best][1]\n",
        "\n",
        "    #print(\"1st\", min_entropy)\n",
        "\n",
        "    for key, value in Choice.items():\n",
        "      if(value[0] < min_entropy):\n",
        "        min_entropy = value[0]\n",
        "        value_best = value[1]\n",
        "        column_best = key\n",
        "\n",
        "\n",
        "    return column_best, value_best\n",
        "  "
      ],
      "execution_count": 11,
      "outputs": []
    },
    {
      "cell_type": "markdown",
      "metadata": {
        "id": "H73vwEBPfB67"
      },
      "source": [
        "An example of the output from findBestSplit (Use this to check if your output is correct):"
      ]
    },
    {
      "cell_type": "code",
      "metadata": {
        "colab": {
          "base_uri": "https://localhost:8080/"
        },
        "id": "2y9_0MwR9IgH",
        "outputId": "2f31d443-d658-46b7-d6e7-4b4f62005fd4"
      },
      "source": [
        "column_best, value_best = findBestSplit(match)\n",
        "print(column_best)\n",
        "print(value_best)"
      ],
      "execution_count": 12,
      "outputs": [
        {
          "output_type": "stream",
          "name": "stdout",
          "text": [
            "Patrons\n",
            "1.5\n"
          ]
        }
      ]
    },
    {
      "cell_type": "code",
      "metadata": {
        "id": "NNcKR6tf12hn",
        "colab": {
          "base_uri": "https://localhost:8080/"
        },
        "outputId": "b63226a8-00fd-43bd-84cc-4265f060bd44"
      },
      "source": [
        "#implementation 2: Find the best split of the 'match' data\n",
        "ans_column, ans_value = findBestSplit(false)\n",
        "#column_best, value_best = findBestSplit(match)\n",
        "#print(column_best)\n",
        "#print(value_best)\n",
        "#match\n",
        "print(ans_column, ans_value)"
      ],
      "execution_count": 13,
      "outputs": [
        {
          "output_type": "stream",
          "name": "stdout",
          "text": [
            "WaitEstimate 16.0\n"
          ]
        }
      ]
    },
    {
      "cell_type": "markdown",
      "metadata": {
        "id": "hD31mGJuVbAx"
      },
      "source": [
        "## Decision Tree Building *(30%)*\n",
        "\n",
        "Use the above functions to help building the decision tree\n",
        "\n",
        "\n",
        "\n"
      ]
    },
    {
      "cell_type": "code",
      "metadata": {
        "id": "1PHuRhmoIdnV"
      },
      "source": [
        "class Node:\n",
        "  def __init__(self, column, threshold):\n",
        "    self.left = None\n",
        "    self.right = None\n",
        "    self.column = column\n",
        "    self.threshold = threshold\n",
        "    #self.isleaf = False\n",
        "    \n",
        "\n",
        "def dfs(node):\n",
        "  if node:\n",
        "    print(node.column)\n",
        "    dfs(node.left)\n",
        "    dfs(node.right)\n",
        "\n",
        "def is_unique(s):\n",
        "  a = s.to_numpy()\n",
        "  return (a[0] == a).all()\n",
        "\n",
        "def buildTree(df, depth):\n",
        "  \"\"\"\n",
        "  The *buildTree* function builds the decision tree\n",
        "  args:\n",
        "  *     df(DataFrame): the data you want to apply the decision tree\n",
        "  *     depth(int) : the depth of your tree\n",
        "  output:\n",
        "  *     decisionSubTree(dict): the decision tree structure including root, branch, leaf(with the attributes and thresholds)\n",
        "  *     features(list): the features(attributes) name in the decision tree structure(from root to branch and leaf)\n",
        "  *     thresholds(list): the corresponding thresholds for the features in the 'features' list\n",
        "  \"\"\"\n",
        "  features = []\n",
        "  thresholds = []\n",
        "  left_feature = []\n",
        "  right_feature = []\n",
        "  left_threshold = []\n",
        "  right_threshold = []\n",
        "  decisionSubTree = None\n",
        "\n",
        "  if(depth > 0):\n",
        "    column_best, value_best = findBestSplit(df)\n",
        "    \n",
        "    decisionSubTree = Node(column_best, value_best)\n",
        "\n",
        "    left_df = df.loc[df[column_best] <= value_best]\n",
        "    left_isleaf = is_unique(left_df[\"Wait\"])\n",
        "    right_df = df.loc[df[column_best] > value_best] \n",
        "    right_isleaf = is_unique(right_df[\"Wait\"])\n",
        "\n",
        "    #right_df\n",
        "\n",
        "    left_df = df.copy(deep = True)\n",
        "    right_df = df.copy(deep = True)\n",
        "\n",
        "    del left_df[column_best]\n",
        "    del right_df[column_best]\n",
        "    #print(depth)\n",
        "    \n",
        "    if(left_isleaf == False):\n",
        "      left, left_feature, left_threshold = buildTree(left_df, depth - 1)\n",
        "      decisionSubTree.left = left\n",
        "\n",
        "    if(right_isleaf == False):  \n",
        "      right, right_feature, right_threshold = buildTree(right_df, depth - 1)\n",
        "      decisionSubTree.right = right\n",
        "\n",
        "    features = [column_best] + left_feature + right_feature\n",
        "    thresholds = [value_best] + left_threshold + right_threshold\n",
        "\n",
        "    #features.append(column_best)\n",
        "    #thresholds.append(value_best)\n",
        "\n",
        "  return decisionSubTree, features, thresholds\n",
        "  "
      ],
      "execution_count": 14,
      "outputs": []
    },
    {
      "cell_type": "markdown",
      "metadata": {
        "id": "RlmycuRYeo4E"
      },
      "source": [
        "An example of the output from buildTree (Use this to check if your output is correct): "
      ]
    },
    {
      "cell_type": "code",
      "metadata": {
        "colab": {
          "base_uri": "https://localhost:8080/"
        },
        "id": "HwaWdJ2KaFnz",
        "outputId": "c8679fea-0f50-47bd-efa7-dc398e430760"
      },
      "source": [
        "tree, features, thresholds= buildTree(example, 2)\n",
        "print(tree)\n",
        "print(features)\n",
        "print(thresholds)"
      ],
      "execution_count": 15,
      "outputs": [
        {
          "output_type": "stream",
          "name": "stdout",
          "text": [
            "<__main__.Node object at 0x7efe36e96190>\n",
            "['Patrons', 'Hungry']\n",
            "[1.5, 0.5]\n"
          ]
        }
      ]
    },
    {
      "cell_type": "code",
      "metadata": {
        "id": "S7LcV0jwrvGW"
      },
      "source": [
        "#implementation 3: decision tree building (depth=10)\n",
        "ans_tree, ans_features, ans_thresholds = buildTree(example,10)\n",
        "#tree, features, thresholds= buildTree(example, 2)\n",
        "#example\n",
        "#print(tree)\n",
        "#print(features)\n",
        "#print(thresholds)\n",
        "#dfs(tree)"
      ],
      "execution_count": 16,
      "outputs": []
    },
    {
      "cell_type": "code",
      "metadata": {
        "id": "oz_UrVDQr0ZO",
        "colab": {
          "base_uri": "https://localhost:8080/"
        },
        "outputId": "187fa55b-b880-409f-8b9b-33977eea172f"
      },
      "source": [
        "#save implementation csv\n",
        "ans_path = STUDENT_ID + '_implementation.csv'\n",
        "\n",
        "imp = []\n",
        "imp.append(ans_entropy)\n",
        "imp.append(ans_column)\n",
        "imp.append(ans_value)\n",
        "\n",
        "for i in range(len(ans_features)):\n",
        "  imp.append(ans_features[i])\n",
        "for m in range(len(ans_thresholds)):\n",
        "  imp.append(ans_thresholds[m])\n",
        "print(imp)\n",
        "pd.DataFrame(imp).to_csv(ans_path, header = None, index = None)"
      ],
      "execution_count": 17,
      "outputs": [
        {
          "output_type": "stream",
          "name": "stdout",
          "text": [
            "[0.863120568566631, 'WaitEstimate', 16.0, 'Patrons', 'Hungry', 'WaitEstimate', 'Price', 'Friday', 'Reservation', 'Alternate', 'Bar', 'Raining', 'Type', 'Type', 'Raining', 'Type', 'Type', 'Bar', 'Raining', 'Type', 'Type', 'Raining', 'Type', 'Type', 'Alternate', 'Bar', 'Raining', 'Type', 'Type', 'Raining', 'Type', 'Type', 'Bar', 'Raining', 'Type', 'Type', 'Raining', 'Type', 'Type', 'Reservation', 'Alternate', 'Bar', 'Raining', 'Type', 'Type', 'Raining', 'Type', 'Type', 'Bar', 'Raining', 'Type', 'Type', 'Raining', 'Type', 'Type', 'Alternate', 'Bar', 'Raining', 'Type', 'Type', 'Raining', 'Type', 'Type', 'Bar', 'Raining', 'Type', 'Type', 'Raining', 'Type', 'Type', 'Price', 'Friday', 'Reservation', 'Alternate', 'Bar', 'Raining', 'Type', 'Type', 'Raining', 'Type', 'Type', 'Bar', 'Raining', 'Type', 'Type', 'Raining', 'Type', 'Type', 'Alternate', 'Bar', 'Raining', 'Type', 'Type', 'Raining', 'Type', 'Type', 'Bar', 'Raining', 'Type', 'Type', 'Raining', 'Type', 'Type', 'Reservation', 'Alternate', 'Bar', 'Raining', 'Type', 'Type', 'Raining', 'Type', 'Type', 'Bar', 'Raining', 'Type', 'Type', 'Raining', 'Type', 'Type', 'Alternate', 'Bar', 'Raining', 'Type', 'Type', 'Raining', 'Type', 'Type', 'Bar', 'Raining', 'Type', 'Type', 'Raining', 'Type', 'Type', 'WaitEstimate', 'Price', 'Friday', 'Reservation', 'Alternate', 'Bar', 'Raining', 'Type', 'Type', 'Raining', 'Type', 'Type', 'Bar', 'Raining', 'Type', 'Type', 'Raining', 'Type', 'Type', 'Alternate', 'Bar', 'Raining', 'Type', 'Type', 'Raining', 'Type', 'Type', 'Bar', 'Raining', 'Type', 'Type', 'Raining', 'Type', 'Type', 'Reservation', 'Alternate', 'Bar', 'Raining', 'Type', 'Type', 'Raining', 'Type', 'Type', 'Bar', 'Raining', 'Type', 'Type', 'Raining', 'Type', 'Type', 'Alternate', 'Bar', 'Raining', 'Type', 'Type', 'Raining', 'Type', 'Type', 'Bar', 'Raining', 'Type', 'Type', 'Raining', 'Type', 'Type', 'Price', 'Friday', 'Reservation', 'Alternate', 'Bar', 'Raining', 'Type', 'Type', 'Raining', 'Type', 'Type', 'Bar', 'Raining', 'Type', 'Type', 'Raining', 'Type', 'Type', 'Alternate', 'Bar', 'Raining', 'Type', 'Type', 'Raining', 'Type', 'Type', 'Bar', 'Raining', 'Type', 'Type', 'Raining', 'Type', 'Type', 'Reservation', 'Alternate', 'Bar', 'Raining', 'Type', 'Type', 'Raining', 'Type', 'Type', 'Bar', 'Raining', 'Type', 'Type', 'Raining', 'Type', 'Type', 'Alternate', 'Bar', 'Raining', 'Type', 'Type', 'Raining', 'Type', 'Type', 'Bar', 'Raining', 'Type', 'Type', 'Raining', 'Type', 'Type', 1.5, 0.5, 16.0, 1.5, 0.5, 0.5, 0.5, 0.5, 0.5, 0.5, 0.5, 0.5, 0.5, 0.5, 0.5, 0.5, 0.5, 0.5, 0.5, 0.5, 0.5, 0.5, 0.5, 0.5, 0.5, 0.5, 0.5, 0.5, 0.5, 0.5, 0.5, 0.5, 0.5, 0.5, 0.5, 0.5, 0.5, 0.5, 0.5, 0.5, 0.5, 0.5, 0.5, 0.5, 0.5, 0.5, 0.5, 0.5, 0.5, 0.5, 0.5, 0.5, 0.5, 0.5, 0.5, 0.5, 0.5, 0.5, 0.5, 0.5, 0.5, 0.5, 0.5, 0.5, 0.5, 0.5, 0.5, 1.5, 0.5, 0.5, 0.5, 0.5, 0.5, 0.5, 0.5, 0.5, 0.5, 0.5, 0.5, 0.5, 0.5, 0.5, 0.5, 0.5, 0.5, 0.5, 0.5, 0.5, 0.5, 0.5, 0.5, 0.5, 0.5, 0.5, 0.5, 0.5, 0.5, 0.5, 0.5, 0.5, 0.5, 0.5, 0.5, 0.5, 0.5, 0.5, 0.5, 0.5, 0.5, 0.5, 0.5, 0.5, 0.5, 0.5, 0.5, 0.5, 0.5, 0.5, 0.5, 0.5, 0.5, 0.5, 0.5, 0.5, 0.5, 0.5, 0.5, 0.5, 0.5, 0.5, 0.5, 16.0, 1.5, 0.5, 0.5, 0.5, 0.5, 0.5, 0.5, 0.5, 0.5, 0.5, 0.5, 0.5, 0.5, 0.5, 0.5, 0.5, 0.5, 0.5, 0.5, 0.5, 0.5, 0.5, 0.5, 0.5, 0.5, 0.5, 0.5, 0.5, 0.5, 0.5, 0.5, 0.5, 0.5, 0.5, 0.5, 0.5, 0.5, 0.5, 0.5, 0.5, 0.5, 0.5, 0.5, 0.5, 0.5, 0.5, 0.5, 0.5, 0.5, 0.5, 0.5, 0.5, 0.5, 0.5, 0.5, 0.5, 0.5, 0.5, 0.5, 0.5, 0.5, 0.5, 0.5, 0.5, 1.5, 0.5, 0.5, 0.5, 0.5, 0.5, 0.5, 0.5, 0.5, 0.5, 0.5, 0.5, 0.5, 0.5, 0.5, 0.5, 0.5, 0.5, 0.5, 0.5, 0.5, 0.5, 0.5, 0.5, 0.5, 0.5, 0.5, 0.5, 0.5, 0.5, 0.5, 0.5, 0.5, 0.5, 0.5, 0.5, 0.5, 0.5, 0.5, 0.5, 0.5, 0.5, 0.5, 0.5, 0.5, 0.5, 0.5, 0.5, 0.5, 0.5, 0.5, 0.5, 0.5, 0.5, 0.5, 0.5, 0.5, 0.5, 0.5, 0.5, 0.5, 0.5, 0.5, 0.5]\n"
          ]
        }
      ]
    },
    {
      "cell_type": "markdown",
      "metadata": {
        "id": "tniHsNdk6vH5"
      },
      "source": [
        "# **2. Classification with the MIMIC Dataset**\n",
        "In the second part, you need to classify **'hospDIED'(death)** in the MIMIC dataset.\n",
        "\n",
        "Please put the classification result in a csv file. (**[STUDENTID]_prediction.csv**)\n",
        "\n",
        "**Note:** Decision tree is recommended but not mandatory."
      ]
    },
    {
      "cell_type": "markdown",
      "metadata": {
        "id": "yr3B7qWCW6mX"
      },
      "source": [
        "## Prediction (Performance) *(20%)*\n",
        "\n",
        "The **y_test** (hospDIED) of this data is hidden, you need to use the x_test.csv to predict the y_test.\n",
        "\n",
        "**Note:** You **can** now import the packages you need here!"
      ]
    },
    {
      "cell_type": "markdown",
      "metadata": {
        "id": "dWKpFeAG8ykH"
      },
      "source": [
        ""
      ]
    },
    {
      "cell_type": "markdown",
      "metadata": {
        "id": "luEGVyG44_Xe"
      },
      "source": [
        "Get the MIMIC data here!\n",
        "\n",
        "Data Description: \n",
        "\n",
        "[Data Description](https://docs.google.com/spreadsheets/d/1pxqxQFhIcv_hrgWEtwhXE6zBVQ5ISa-13PIhvXMtWCY/edit?usp=sharing) (You can find the data description here.)\n",
        "\n",
        "**Note:**\n",
        "*   You can select the features you want to use.\n",
        "*   You can use any ML models to predict the y_test.\n",
        "\n",
        "  (However, there is a 10% bonus if you **visualize** the decision tree in this part)\n",
        "\n",
        "\n",
        "[ref]: *Johnson, A. E. W., Pollard, T. J., Shen, L., Lehman, L. H., Feng, M., Ghassemi, M., Moody, B., Szolovits, P., Celi, L. A., & Mark, R. G. (2016). MIMIC-III, a freely accessible critical care database. Scientific Data, 3, 160035.*\n"
      ]
    },
    {
      "cell_type": "markdown",
      "metadata": {
        "id": "9t9c7TaCKFvV"
      },
      "source": [
        ""
      ]
    },
    {
      "cell_type": "code",
      "metadata": {
        "id": "COe36S4wc-_x",
        "colab": {
          "base_uri": "https://localhost:8080/"
        },
        "outputId": "8aaeacd2-acba-4267-d6d2-591af85c5135"
      },
      "source": [
        "#Read data\n",
        "x_train = pd.read_csv('https://raw.githubusercontent.com/aubreyyy24/HW2_data/main/x_train.csv')\n",
        "y_train = pd.read_csv('https://raw.githubusercontent.com/aubreyyy24/HW2_data/main/y_train.csv')\n",
        "#x_train\n",
        "#x_train.head()\n",
        "df = pd.concat([x_train, y_train], axis=1, join=\"inner\")\n",
        "print(len(x_train))\n",
        "\n",
        "from sklearn.preprocessing import LabelEncoder\n",
        "labelencoder = LabelEncoder()\n",
        "x_train['los'] = labelencoder.fit_transform(x_train['los'])\n",
        "x_train['indextime'] = labelencoder.fit_transform(x_train['indextime'])\n",
        "df['los'] = labelencoder.fit_transform(df['los'])\n",
        "df['indextime'] = labelencoder.fit_transform(df['indextime'])"
      ],
      "execution_count": 25,
      "outputs": [
        {
          "output_type": "stream",
          "name": "stdout",
          "text": [
            "24641\n"
          ]
        }
      ]
    },
    {
      "cell_type": "markdown",
      "metadata": {
        "id": "N2nP69qKhFsB"
      },
      "source": [
        "Complete your model with validation:"
      ]
    },
    {
      "cell_type": "code",
      "metadata": {
        "id": "nUcloPGehlTp",
        "colab": {
          "base_uri": "https://localhost:8080/"
        },
        "outputId": "9259e12b-d96e-4f88-f060-c18ea84541b8"
      },
      "source": [
        "# change the string categorical to integer labels\n",
        "from sklearn.preprocessing import LabelEncoder\n",
        "labelencoder = LabelEncoder()\n",
        "\n",
        "df['los'] = labelencoder.fit_transform(df['los'])\n",
        "df['indextime'] = labelencoder.fit_transform(df['indextime'])\n",
        "\n",
        "\n",
        "\n",
        "#Split the data into training and validation sets\n",
        "#Build you model and evaluate it on your validation set\n",
        "#df_train = df.iloc[:18000,:]\n",
        "#df_validation = df.iloc[18001:,:]\n",
        "#ans_tree, ans_features, ans_thresholds = MIMIC_buildTree(df_train, 2)\n",
        "\n",
        "df_x_train = x_train.iloc[:18000,:]\n",
        "df_x_validation = x_train.iloc[18001:,:]\n",
        "df_y_train = y_train.iloc[:18000,:]\n",
        "df_y_validation = y_train.iloc[18001:,:]\n",
        "#ans_tree, ans_features, ans_thresholds = MIMIC_buildTree(df_train, 2)\n",
        "from sklearn import tree\n",
        "clf = tree.DecisionTreeClassifier()\n",
        "clf = clf.fit(df_x_train, df_y_train)\n",
        "a = clf.predict(df_x_validation)\n",
        "\n",
        "TP = 0\n",
        "FP = 0\n",
        "FN = 0\n",
        "TF = 0\n",
        "for i in range(0, len(a)-1):\n",
        "  if(a[i] == 1 and df_y_validation.iloc[i][\"hospDIED\"] == 1):\n",
        "    TP += 1\n",
        "  elif(a[i] == 0 and df_y_validation.iloc[i][\"hospDIED\"] == 0):\n",
        "    TF += 1\n",
        "  elif(a[i] == 0 and df_y_validation.iloc[i][\"hospDIED\"] == 1):\n",
        "    FN +=1\n",
        "  else:\n",
        "    FP += 1\n",
        "precision = TP/(TP+FP)\n",
        "recall = TP/(TP+FN)\n",
        "F1 = 2*(recall * precision)/(recall+precision)\n",
        "#print(F1)"
      ],
      "execution_count": 26,
      "outputs": [
        {
          "output_type": "stream",
          "name": "stdout",
          "text": [
            "0.42303664921465967\n"
          ]
        }
      ]
    },
    {
      "cell_type": "markdown",
      "metadata": {
        "id": "V6MagTAmhURi"
      },
      "source": [
        "Make the final prediction from your model:"
      ]
    },
    {
      "cell_type": "code",
      "metadata": {
        "id": "sGpSxmOBDYAG"
      },
      "source": [
        "#x_test = pd.read_csv('https://raw.githubusercontent.com/aubreyyy24/HW2_data/main/x_test.csv')\n",
        "\n",
        "#y_pred = \n",
        "\n",
        "x_test = pd.read_csv('https://raw.githubusercontent.com/aubreyyy24/HW2_data/main/x_test.csv')\n",
        "x_test['los'] = labelencoder.fit_transform(x_test['los'])\n",
        "x_test['indextime'] = labelencoder.fit_transform(x_test['indextime'])\n",
        "\n",
        "y_pred = clf.predict(x_test)"
      ],
      "execution_count": 20,
      "outputs": []
    },
    {
      "cell_type": "code",
      "metadata": {
        "id": "k3zecXTLFJci"
      },
      "source": [
        "#final prediction with your decision tree(optional)\n",
        "def treePredictions(df, tree):\n",
        "\n",
        "  return predictions\n",
        "\n",
        "#y_pred = treePredictions(x_test, tree)"
      ],
      "execution_count": 21,
      "outputs": []
    },
    {
      "cell_type": "markdown",
      "metadata": {
        "id": "zocBlOKdgaO8"
      },
      "source": [
        "To export your predcition as a CSV file and hand in the CSV on elearn"
      ]
    },
    {
      "cell_type": "code",
      "metadata": {
        "id": "8YOjsyVmDA1s"
      },
      "source": [
        "output_path = STUDENT_ID + '_prediction.csv'\n",
        "\n",
        "tree_test_pred = pd.DataFrame( {'subject_id': x_test.subject_id,\n",
        "                  'prediction': y_pred } )\n",
        "tree_test_pred.to_csv(output_path, index = False)"
      ],
      "execution_count": 22,
      "outputs": []
    },
    {
      "cell_type": "markdown",
      "metadata": {
        "id": "aMh7DF47XV4k"
      },
      "source": [
        "## Visualizing the Decision Tree *(10% bonus)*\n",
        "\n",
        "**Note:** Save the visualization result image as **[STUDENT_ID]_visualization.png**\n",
        "\n",
        "*   Your visualization image of the decision tree can contain **five** layers at most.\n"
      ]
    },
    {
      "cell_type": "code",
      "metadata": {
        "id": "2tr0cSuooJpc"
      },
      "source": [
        "#Decision Tree Visualization"
      ],
      "execution_count": 23,
      "outputs": []
    },
    {
      "cell_type": "markdown",
      "metadata": {
        "id": "nU6YmzzrsaNl"
      },
      "source": [
        "# Report *(10%)*\n",
        "\n",
        "Report should be submitted as a pdf file! (**[STUDENT_ID]_report.pdf**)\n",
        "\n",
        "*   List the top 3 splitting features and their thresholds of your model\n",
        "*   Briefly describe how you build the decision tree\n",
        "*   Describe if you apply any improvement on your decision tree model\n",
        "*   If you preprocess the MIMIC data in the second part (selecting features...), describe the work and reasons\n",
        "*   Summarize your work\n",
        "*   Do not exceed 2 pages!\n",
        "\n",
        "\n",
        "\n",
        "\n"
      ]
    },
    {
      "cell_type": "markdown",
      "metadata": {
        "id": "JkqzcPNazBKd"
      },
      "source": [
        "# Save the Code File\n",
        "Please save your code and submit it as an ipynb file! (**[STUDENT_ID]_hw2.ipynb**)"
      ]
    }
  ]
}